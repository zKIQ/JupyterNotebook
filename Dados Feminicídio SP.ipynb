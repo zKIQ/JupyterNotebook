{
 "cells": [
  {
   "cell_type": "code",
   "execution_count": 4,
   "metadata": {},
   "outputs": [],
   "source": [
    "import pandas as pd\n",
    "import seaborn as sb\n",
    "low_memory=False\n",
    "%matplotlib inline\n",
    "pd.options.display.max_columns = 80\n",
    "pd.options.display.max_rows = 90"
   ]
  },
  {
   "cell_type": "code",
   "execution_count": 6,
   "metadata": {},
   "outputs": [],
   "source": [
    "filename = 'C:/Users/User/Jupyter Notebook/EP4 - FEMINICIDIO/DadosBO_2019(FEMINICIDIO).xlsx'\n",
    "df = pd.read_excel(filename)"
   ]
  },
  {
   "cell_type": "code",
   "execution_count": null,
   "metadata": {},
   "outputs": [],
   "source": [
    "df.shape"
   ]
  },
  {
   "cell_type": "code",
   "execution_count": 8,
   "metadata": {
    "scrolled": true
   },
   "outputs": [
    {
     "data": {
      "text/html": [
       "<div>\n",
       "<style scoped>\n",
       "    .dataframe tbody tr th:only-of-type {\n",
       "        vertical-align: middle;\n",
       "    }\n",
       "\n",
       "    .dataframe tbody tr th {\n",
       "        vertical-align: top;\n",
       "    }\n",
       "\n",
       "    .dataframe thead th {\n",
       "        text-align: right;\n",
       "    }\n",
       "</style>\n",
       "<table border=\"1\" class=\"dataframe\">\n",
       "  <thead>\n",
       "    <tr style=\"text-align: right;\">\n",
       "      <th></th>\n",
       "      <th>ANO_BO</th>\n",
       "      <th>NUM_BO</th>\n",
       "      <th>NUMERO</th>\n",
       "      <th>LATITUDE</th>\n",
       "      <th>LONGITUDE</th>\n",
       "      <th>RG</th>\n",
       "      <th>IDADE</th>\n",
       "      <th>CORCUTIS</th>\n",
       "      <th>PLACA_VEICULO</th>\n",
       "      <th>UF_VEICULO</th>\n",
       "      <th>CIDADE_VEICULO</th>\n",
       "      <th>DESCR_COR_VEICULO</th>\n",
       "      <th>DESCR_MARCA_VEICULO</th>\n",
       "      <th>ANO_FABRICACAO</th>\n",
       "      <th>ANO_MODELO</th>\n",
       "    </tr>\n",
       "  </thead>\n",
       "  <tbody>\n",
       "    <tr>\n",
       "      <th>count</th>\n",
       "      <td>77.0</td>\n",
       "      <td>77.000000</td>\n",
       "      <td>77.000000</td>\n",
       "      <td>14.000000</td>\n",
       "      <td>14.000000</td>\n",
       "      <td>6.800000e+01</td>\n",
       "      <td>70.000000</td>\n",
       "      <td>0.0</td>\n",
       "      <td>0.0</td>\n",
       "      <td>0.0</td>\n",
       "      <td>0.0</td>\n",
       "      <td>0.0</td>\n",
       "      <td>0.0</td>\n",
       "      <td>77.0</td>\n",
       "      <td>77.0</td>\n",
       "    </tr>\n",
       "    <tr>\n",
       "      <th>mean</th>\n",
       "      <td>2019.0</td>\n",
       "      <td>532.441558</td>\n",
       "      <td>75.077922</td>\n",
       "      <td>-23.046747</td>\n",
       "      <td>-47.060285</td>\n",
       "      <td>3.621171e+07</td>\n",
       "      <td>37.600000</td>\n",
       "      <td>NaN</td>\n",
       "      <td>NaN</td>\n",
       "      <td>NaN</td>\n",
       "      <td>NaN</td>\n",
       "      <td>NaN</td>\n",
       "      <td>NaN</td>\n",
       "      <td>0.0</td>\n",
       "      <td>0.0</td>\n",
       "    </tr>\n",
       "    <tr>\n",
       "      <th>std</th>\n",
       "      <td>0.0</td>\n",
       "      <td>629.284357</td>\n",
       "      <td>380.353602</td>\n",
       "      <td>0.461011</td>\n",
       "      <td>0.850232</td>\n",
       "      <td>1.378438e+07</td>\n",
       "      <td>11.666128</td>\n",
       "      <td>NaN</td>\n",
       "      <td>NaN</td>\n",
       "      <td>NaN</td>\n",
       "      <td>NaN</td>\n",
       "      <td>NaN</td>\n",
       "      <td>NaN</td>\n",
       "      <td>0.0</td>\n",
       "      <td>0.0</td>\n",
       "    </tr>\n",
       "    <tr>\n",
       "      <th>min</th>\n",
       "      <td>2019.0</td>\n",
       "      <td>15.000000</td>\n",
       "      <td>0.000000</td>\n",
       "      <td>-23.683681</td>\n",
       "      <td>-49.948532</td>\n",
       "      <td>7.592875e+06</td>\n",
       "      <td>13.000000</td>\n",
       "      <td>NaN</td>\n",
       "      <td>NaN</td>\n",
       "      <td>NaN</td>\n",
       "      <td>NaN</td>\n",
       "      <td>NaN</td>\n",
       "      <td>NaN</td>\n",
       "      <td>0.0</td>\n",
       "      <td>0.0</td>\n",
       "    </tr>\n",
       "    <tr>\n",
       "      <th>25%</th>\n",
       "      <td>2019.0</td>\n",
       "      <td>89.000000</td>\n",
       "      <td>0.000000</td>\n",
       "      <td>-23.464058</td>\n",
       "      <td>-46.984090</td>\n",
       "      <td>2.719670e+07</td>\n",
       "      <td>28.000000</td>\n",
       "      <td>NaN</td>\n",
       "      <td>NaN</td>\n",
       "      <td>NaN</td>\n",
       "      <td>NaN</td>\n",
       "      <td>NaN</td>\n",
       "      <td>NaN</td>\n",
       "      <td>0.0</td>\n",
       "      <td>0.0</td>\n",
       "    </tr>\n",
       "    <tr>\n",
       "      <th>50%</th>\n",
       "      <td>2019.0</td>\n",
       "      <td>281.000000</td>\n",
       "      <td>0.000000</td>\n",
       "      <td>-22.823629</td>\n",
       "      <td>-46.893262</td>\n",
       "      <td>3.704332e+07</td>\n",
       "      <td>38.000000</td>\n",
       "      <td>NaN</td>\n",
       "      <td>NaN</td>\n",
       "      <td>NaN</td>\n",
       "      <td>NaN</td>\n",
       "      <td>NaN</td>\n",
       "      <td>NaN</td>\n",
       "      <td>0.0</td>\n",
       "      <td>0.0</td>\n",
       "    </tr>\n",
       "    <tr>\n",
       "      <th>75%</th>\n",
       "      <td>2019.0</td>\n",
       "      <td>774.000000</td>\n",
       "      <td>0.000000</td>\n",
       "      <td>-22.723001</td>\n",
       "      <td>-46.802868</td>\n",
       "      <td>4.743140e+07</td>\n",
       "      <td>42.000000</td>\n",
       "      <td>NaN</td>\n",
       "      <td>NaN</td>\n",
       "      <td>NaN</td>\n",
       "      <td>NaN</td>\n",
       "      <td>NaN</td>\n",
       "      <td>NaN</td>\n",
       "      <td>0.0</td>\n",
       "      <td>0.0</td>\n",
       "    </tr>\n",
       "    <tr>\n",
       "      <th>max</th>\n",
       "      <td>2019.0</td>\n",
       "      <td>3010.000000</td>\n",
       "      <td>2355.000000</td>\n",
       "      <td>-22.216694</td>\n",
       "      <td>-46.433882</td>\n",
       "      <td>6.042539e+07</td>\n",
       "      <td>63.000000</td>\n",
       "      <td>NaN</td>\n",
       "      <td>NaN</td>\n",
       "      <td>NaN</td>\n",
       "      <td>NaN</td>\n",
       "      <td>NaN</td>\n",
       "      <td>NaN</td>\n",
       "      <td>0.0</td>\n",
       "      <td>0.0</td>\n",
       "    </tr>\n",
       "  </tbody>\n",
       "</table>\n",
       "</div>"
      ],
      "text/plain": [
       "       ANO_BO       NUM_BO       NUMERO   LATITUDE  LONGITUDE            RG  \\\n",
       "count    77.0    77.000000    77.000000  14.000000  14.000000  6.800000e+01   \n",
       "mean   2019.0   532.441558    75.077922 -23.046747 -47.060285  3.621171e+07   \n",
       "std       0.0   629.284357   380.353602   0.461011   0.850232  1.378438e+07   \n",
       "min    2019.0    15.000000     0.000000 -23.683681 -49.948532  7.592875e+06   \n",
       "25%    2019.0    89.000000     0.000000 -23.464058 -46.984090  2.719670e+07   \n",
       "50%    2019.0   281.000000     0.000000 -22.823629 -46.893262  3.704332e+07   \n",
       "75%    2019.0   774.000000     0.000000 -22.723001 -46.802868  4.743140e+07   \n",
       "max    2019.0  3010.000000  2355.000000 -22.216694 -46.433882  6.042539e+07   \n",
       "\n",
       "           IDADE  CORCUTIS  PLACA_VEICULO  UF_VEICULO  CIDADE_VEICULO  \\\n",
       "count  70.000000       0.0            0.0         0.0             0.0   \n",
       "mean   37.600000       NaN            NaN         NaN             NaN   \n",
       "std    11.666128       NaN            NaN         NaN             NaN   \n",
       "min    13.000000       NaN            NaN         NaN             NaN   \n",
       "25%    28.000000       NaN            NaN         NaN             NaN   \n",
       "50%    38.000000       NaN            NaN         NaN             NaN   \n",
       "75%    42.000000       NaN            NaN         NaN             NaN   \n",
       "max    63.000000       NaN            NaN         NaN             NaN   \n",
       "\n",
       "       DESCR_COR_VEICULO  DESCR_MARCA_VEICULO  ANO_FABRICACAO  ANO_MODELO  \n",
       "count                0.0                  0.0            77.0        77.0  \n",
       "mean                 NaN                  NaN             0.0         0.0  \n",
       "std                  NaN                  NaN             0.0         0.0  \n",
       "min                  NaN                  NaN             0.0         0.0  \n",
       "25%                  NaN                  NaN             0.0         0.0  \n",
       "50%                  NaN                  NaN             0.0         0.0  \n",
       "75%                  NaN                  NaN             0.0         0.0  \n",
       "max                  NaN                  NaN             0.0         0.0  "
      ]
     },
     "execution_count": 8,
     "metadata": {},
     "output_type": "execute_result"
    }
   ],
   "source": [
    "df.describe()"
   ]
  },
  {
   "cell_type": "code",
   "execution_count": 9,
   "metadata": {},
   "outputs": [
    {
     "name": "stdout",
     "output_type": "stream",
     "text": [
      "<class 'pandas.core.frame.DataFrame'>\n",
      "RangeIndex: 77 entries, 0 to 76\n",
      "Data columns (total 51 columns):\n",
      "ANO_BO                      77 non-null int64\n",
      "NUM_BO                      77 non-null int64\n",
      "NUMERO_BOLETIM              77 non-null object\n",
      "BO_INICIADO                 77 non-null datetime64[ns]\n",
      "BO_EMITIDO                  77 non-null datetime64[ns]\n",
      "DATAOCORRENCIA              77 non-null datetime64[ns]\n",
      "PERIODOOCORRENCIA           77 non-null object\n",
      "DATACOMUNICACAO             77 non-null datetime64[ns]\n",
      "DATAELABORACAO              77 non-null datetime64[ns]\n",
      "BO_AUTORIA                  77 non-null object\n",
      "FLAGRANTE                   77 non-null object\n",
      "NUMERO_BOLETIM_PRINCIPAL    7 non-null object\n",
      "LOGRADOURO                  14 non-null object\n",
      "NUMERO                      77 non-null int64\n",
      "BAIRRO                      14 non-null object\n",
      "CIDADE                      14 non-null object\n",
      "UF                          14 non-null object\n",
      "LATITUDE                    14 non-null float64\n",
      "LONGITUDE                   14 non-null float64\n",
      "DESCRICAOLOCAL              77 non-null object\n",
      "EXAME                       65 non-null object\n",
      "SOLUCAO                     77 non-null object\n",
      "DELEGACIA_NOME              77 non-null object\n",
      "DELEGACIA_CIRCUNSCRICAO     77 non-null object\n",
      "ESPECIE                     77 non-null object\n",
      "RUBRICA                     77 non-null object\n",
      "DESDOBRAMENTO               55 non-null object\n",
      "STATUS                      77 non-null object\n",
      "NOMEPESSOA                  71 non-null object\n",
      "TIPOPESSOA                  71 non-null object\n",
      "VITIMAFATAL                 71 non-null object\n",
      "RG                          68 non-null float64\n",
      "RG_UF                       68 non-null object\n",
      "NATURALIDADE                70 non-null object\n",
      "NACIONALIDADE               67 non-null object\n",
      "SEXO                        71 non-null object\n",
      "DATANASCIMENTO              70 non-null datetime64[ns]\n",
      "IDADE                       70 non-null float64\n",
      "ESTADOCIVIL                 69 non-null object\n",
      "PROFISSAO                   49 non-null object\n",
      "GRAUINSTRUCAO               30 non-null object\n",
      "CORCUTIS                    0 non-null float64\n",
      "NATUREZAVINCULADA           71 non-null object\n",
      "TIPOVINCULO                 71 non-null object\n",
      "PLACA_VEICULO               0 non-null float64\n",
      "UF_VEICULO                  0 non-null float64\n",
      "CIDADE_VEICULO              0 non-null float64\n",
      "DESCR_COR_VEICULO           0 non-null float64\n",
      "DESCR_MARCA_VEICULO         0 non-null float64\n",
      "ANO_FABRICACAO              77 non-null int64\n",
      "ANO_MODELO                  77 non-null int64\n",
      "dtypes: datetime64[ns](6), float64(10), int64(5), object(30)\n",
      "memory usage: 21.7+ KB\n"
     ]
    }
   ],
   "source": [
    "df.info()"
   ]
  },
  {
   "cell_type": "code",
   "execution_count": 79,
   "metadata": {},
   "outputs": [
    {
     "data": {
      "text/plain": [
       "ESTADOCIVIL\n",
       "Divorciado        3\n",
       "Ignorado          4\n",
       "Casado           14\n",
       "União Estável    20\n",
       "Solteiro         28\n",
       "dtype: int64"
      ]
     },
     "execution_count": 79,
     "metadata": {},
     "output_type": "execute_result"
    }
   ],
   "source": [
    "df.groupby('ESTADOCIVIL').size().sort_values()"
   ]
  },
  {
   "cell_type": "code",
   "execution_count": 10,
   "metadata": {},
   "outputs": [
    {
     "data": {
      "text/plain": [
       "<matplotlib.axes._subplots.AxesSubplot at 0xd83bc70>"
      ]
     },
     "execution_count": 10,
     "metadata": {},
     "output_type": "execute_result"
    },
    {
     "data": {
      "image/png": "[encoded data removed]",
      "text/plain": [
       "<Figure size 432x288 with 1 Axes>"
      ]
     },
     "metadata": {
      "needs_background": "light"
     },
     "output_type": "display_data"
    }
   ],
   "source": [
    "df.groupby('ESTADOCIVIL').size().sort_values().plot(kind='barh')"
   ]
  },
  {
   "cell_type": "markdown",
   "metadata": {},
   "source": [
    "## Vemos que a maioria dos relatos de feminicídios são de pessoas solteiras  ou em união estável"
   ]
  },
  {
   "cell_type": "code",
   "execution_count": 82,
   "metadata": {},
   "outputs": [
    {
     "data": {
      "text/plain": [
       "PERIODOOCORRENCIA\n",
       "A TARDE         14\n",
       "A NOITE         16\n",
       "PELA MANHÃ      19\n",
       "DE MADRUGADA    28\n",
       "dtype: int64"
      ]
     },
     "execution_count": 82,
     "metadata": {},
     "output_type": "execute_result"
    }
   ],
   "source": [
    "df.groupby('PERIODOOCORRENCIA').size().sort_values()"
   ]
  },
  {
   "cell_type": "code",
   "execution_count": 80,
   "metadata": {},
   "outputs": [
    {
     "data": {
      "text/plain": [
       "<matplotlib.axes._subplots.AxesSubplot at 0xfcd3f90>"
      ]
     },
     "execution_count": 80,
     "metadata": {},
     "output_type": "execute_result"
    },
    {
     "data": {
      "image/png": "[encoded data removed]",
      "text/plain": [
       "<Figure size 432x288 with 1 Axes>"
      ]
     },
     "metadata": {
      "needs_background": "light"
     },
     "output_type": "display_data"
    }
   ],
   "source": [
    "df.groupby('PERIODOOCORRENCIA').size().sort_values().plot(kind='barh')"
   ]
  },
  {
   "cell_type": "markdown",
   "metadata": {},
   "source": [
    "## Observamos que a maioria dos relatos de feminicídios ocorrem pela madrugada"
   ]
  },
  {
   "cell_type": "code",
   "execution_count": 84,
   "metadata": {},
   "outputs": [
    {
     "data": {
      "text/plain": [
       "RUBRICA\n",
       "A.I.-Posse irregular de arma de fogo de uso permitido (Art.12)     1\n",
       "Destruição, subtração ou ocultação de cadáver (art. 211)           1\n",
       "Furto qualificado (art. 155, §4o.) - ESTABELECIMENTO-OUTROS        1\n",
       "Morte suspeita                                                     1\n",
       "Porte ilegal de arma de fogo de uso permitido (Art. 14)            1\n",
       "A.I.-Homicídio qualificado (art. 121, §2o.)                        2\n",
       "Homicídio simples (art. 121)                                       2\n",
       "Suicídio consumado                                                 5\n",
       "Violência Doméstica                                                9\n",
       "Homicídio qualificado (art. 121, §2o.)                            54\n",
       "dtype: int64"
      ]
     },
     "execution_count": 84,
     "metadata": {},
     "output_type": "execute_result"
    }
   ],
   "source": [
    "df.groupby('RUBRICA').size().sort_values()"
   ]
  },
  {
   "cell_type": "code",
   "execution_count": 25,
   "metadata": {},
   "outputs": [
    {
     "data": {
      "text/plain": [
       "<matplotlib.axes._subplots.AxesSubplot at 0xf531ad0>"
      ]
     },
     "execution_count": 25,
     "metadata": {},
     "output_type": "execute_result"
    },
    {
     "data": {
      "image/png": "[encoded data removed]",
      "text/plain": [
       "<Figure size 432x288 with 1 Axes>"
      ]
     },
     "metadata": {
      "needs_background": "light"
     },
     "output_type": "display_data"
    }
   ],
   "source": [
    "df.groupby('RUBRICA').size().sort_values().plot(kind='barh')"
   ]
  },
  {
   "cell_type": "markdown",
   "metadata": {},
   "source": [
    "## De todos os relatos, mais de 70% são descritos como homicídio qualificado"
   ]
  },
  {
   "cell_type": "code",
   "execution_count": 77,
   "metadata": {
    "scrolled": false
   },
   "outputs": [
    {
     "data": {
      "text/plain": [
       "PELA MANHÃ      6\n",
       "DE MADRUGADA    4\n",
       "A NOITE         4\n",
       "A TARDE         3\n",
       "Name: PERIODOOCORRENCIA, dtype: int64"
      ]
     },
     "execution_count": 77,
     "metadata": {},
     "output_type": "execute_result"
    }
   ],
   "source": [
    "df.query('RUBRICA == \"Homicídio qualificado (art. 121, §2o.)\" and ESTADOCIVIL == \"Solteiro\"').PERIODOOCORRENCIA.value_counts()"
   ]
  },
  {
   "cell_type": "code",
   "execution_count": 86,
   "metadata": {},
   "outputs": [
    {
     "data": {
      "text/plain": [
       "<matplotlib.axes._subplots.AxesSubplot at 0xfde6d90>"
      ]
     },
     "execution_count": 86,
     "metadata": {},
     "output_type": "execute_result"
    },
    {
     "data": {
      "image/png": "[encoded data removed]",
      "text/plain": [
       "<Figure size 432x288 with 1 Axes>"
      ]
     },
     "metadata": {
      "needs_background": "light"
     },
     "output_type": "display_data"
    }
   ],
   "source": [
    "df.query('RUBRICA == \"Homicídio qualificado (art. 121, §2o.)\" and ESTADOCIVIL == \"Solteiro\"').PERIODOOCORRENCIA.value_counts().sort_values().plot(kind='barh')"
   ]
  },
  {
   "cell_type": "markdown",
   "metadata": {},
   "source": [
    "## Quando temos foco só em homicídios qualificados em relação a pessoas solteiras a maioria dos casos ocorre pela manhã"
   ]
  },
  {
   "cell_type": "code",
   "execution_count": 76,
   "metadata": {},
   "outputs": [
    {
     "data": {
      "text/plain": [
       "PELA MANHÃ      7\n",
       "DE MADRUGADA    6\n",
       "A NOITE         1\n",
       "Name: PERIODOOCORRENCIA, dtype: int64"
      ]
     },
     "execution_count": 76,
     "metadata": {},
     "output_type": "execute_result"
    }
   ],
   "source": [
    "df.query('RUBRICA == \"Homicídio qualificado (art. 121, §2o.)\" and ESTADOCIVIL == \"União Estável\"').PERIODOOCORRENCIA.value_counts()\n"
   ]
  },
  {
   "cell_type": "code",
   "execution_count": 87,
   "metadata": {},
   "outputs": [
    {
     "data": {
      "text/plain": [
       "<matplotlib.axes._subplots.AxesSubplot at 0xfe25c70>"
      ]
     },
     "execution_count": 87,
     "metadata": {},
     "output_type": "execute_result"
    },
    {
     "data": {
      "image/png": "[encoded data removed]",
      "text/plain": [
       "<Figure size 432x288 with 1 Axes>"
      ]
     },
     "metadata": {
      "needs_background": "light"
     },
     "output_type": "display_data"
    }
   ],
   "source": [
    "df.query('RUBRICA == \"Homicídio qualificado (art. 121, §2o.)\" and ESTADOCIVIL == \"União Estável\"').PERIODOOCORRENCIA.value_counts().sort_values().plot(kind='barh')"
   ]
  },
  {
   "cell_type": "markdown",
   "metadata": {},
   "source": [
    "## O que também se repete em relação a pessoas em união estável "
   ]
  },
  {
   "cell_type": "markdown",
   "metadata": {},
   "source": [
    "### Com os dados obtidos,concluimos que a maioria dos relatos são de pessoas solteiras ou em união estável, ocorridos pela madrugada, e se referem a homicídios qualificados. Mas quando temos foco só em homicídios qualificados em relação a pessoas solteiras ou em união estável, a maioria dos casos ocorrem pela manhã, contrariando a maioria total dos casos."
   ]
  }
 ],
 "metadata": {
  "kernelspec": {
   "display_name": "Python 3",
   "language": "python",
   "name": "python3"
  },
  "language_info": {
   "codemirror_mode": {
    "name": "ipython",
    "version": 3
   },
   "file_extension": ".py",
   "mimetype": "text/x-python",
   "name": "python",
   "nbconvert_exporter": "python",
   "pygments_lexer": "ipython3",
   "version": "3.7.2"
  }
 },
 "nbformat": 4,
 "nbformat_minor": 2
}
